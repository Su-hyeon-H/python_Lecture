{
 "cells": [
  {
   "cell_type": "code",
   "execution_count": 1,
   "metadata": {},
   "outputs": [],
   "source": [
    "import random"
   ]
  },
  {
   "cell_type": "code",
   "execution_count": 2,
   "metadata": {
    "scrolled": true
   },
   "outputs": [
    {
     "data": {
      "text/plain": [
       "0.4603763853446826"
      ]
     },
     "execution_count": 2,
     "metadata": {},
     "output_type": "execute_result"
    }
   ],
   "source": [
    "random.random()"
   ]
  },
  {
   "cell_type": "code",
   "execution_count": 3,
   "metadata": {},
   "outputs": [
    {
     "data": {
      "text/plain": [
       "2"
      ]
     },
     "execution_count": 3,
     "metadata": {},
     "output_type": "execute_result"
    }
   ],
   "source": [
    "random.randint(1,3)"
   ]
  },
  {
   "cell_type": "code",
   "execution_count": 8,
   "metadata": {
    "scrolled": false
   },
   "outputs": [
    {
     "name": "stdout",
     "output_type": "stream",
     "text": [
      "\n",
      "가위(1), 바위(2), 보(3) 을 입력해주세요! : \n",
      "3\n",
      "유저 : 보 컴퓨터 : 가위\n",
      "\n",
      "가위(1), 바위(2), 보(3) 을 입력해주세요! : \n",
      "1\n",
      "유저 : 가위 컴퓨터 : 가위\n",
      "\n",
      "가위(1), 바위(2), 보(3) 을 입력해주세요! : \n",
      "3\n",
      "유저 : 보 컴퓨터 : 가위\n",
      "\n",
      "가위(1), 바위(2), 보(3) 을 입력해주세요! : \n",
      "1\n",
      "유저 : 가위 컴퓨터 : 가위\n",
      "\n",
      "가위(1), 바위(2), 보(3) 을 입력해주세요! : \n",
      "2\n",
      "유저 : 바위 컴퓨터 : 가위\n",
      "\n",
      "가위(1), 바위(2), 보(3) 을 입력해주세요! : \n",
      "1\n",
      "유저 : 가위 컴퓨터 : 가위\n",
      "\n",
      "가위(1), 바위(2), 보(3) 을 입력해주세요! : \n",
      "3\n",
      "유저 : 보 컴퓨터 : 가위\n",
      "\n",
      "가위(1), 바위(2), 보(3) 을 입력해주세요! : \n",
      "1\n",
      "유저 : 가위 컴퓨터 : 가위\n",
      "\n",
      "가위(1), 바위(2), 보(3) 을 입력해주세요! : \n",
      "2\n",
      "유저 : 바위 컴퓨터 : 가위\n",
      "\n",
      "가위(1), 바위(2), 보(3) 을 입력해주세요! : \n",
      "2\n",
      "유저 : 바위 컴퓨터 : 가위\n",
      "\n",
      "가위(1), 바위(2), 보(3) 을 입력해주세요! : \n",
      "3\n",
      "유저 : 보 컴퓨터 : 가위\n",
      "\n",
      "가위(1), 바위(2), 보(3) 을 입력해주세요! : \n",
      "4\n",
      "게임종료\n",
      "유저: 0 컴퓨터: 4\n"
     ]
    }
   ],
   "source": [
    "import random\n",
    "\n",
    "count = 0\n",
    "count1 = 0\n",
    "computer= random.randint(1,3)\n",
    "data=[\"\",\"가위\",\"바위\",\"보\"]\n",
    "while True:\n",
    "    print(\"\\n가위(1), 바위(2), 보(3) 을 입력해주세요! : \")\n",
    "    me= int(input(\"\"))\n",
    "    if me == 4:\n",
    "        print(\"게임종료\")\n",
    "        print(\"유저:\",count,\"컴퓨터:\", count1)\n",
    "        break\n",
    "\n",
    "    elif me >=1 and me <=3:\n",
    "        if me==1 and  computer == 2:\n",
    "            print(\"유저 :\",data[me],\"컴퓨터 :\",data[computer])\n",
    "            count1+=1\n",
    "        elif me == 1 and computer == 1:\n",
    "            print(\"유저 :\",data[me],\"컴퓨터 :\",data[computer])\n",
    "        elif me == 1 and computer == 3:\n",
    "            print(\"유저 :\",data[me],\"컴퓨터 :\",data[computer])\n",
    "            count= count+1\n",
    "\n",
    "        elif me == 2 and computer == 3:\n",
    "            print(\"유저 :\",data[me],\"컴퓨터 :\",data[computer])\n",
    "            \n",
    "            count1 += 1\n",
    "        elif me == 2 and computer == 2:\n",
    "            print(\"유저 :\",data[me],\"컴퓨터 :\",data[computer])\n",
    "            \n",
    "        elif me == 2 and computer == 1:\n",
    "            print(\"유저 :\", data[me], \"컴퓨터 :\", data[computer])\n",
    "            \n",
    "        elif me == 2 and computer == 1:\n",
    "            print(\"유저 :\", data[me], \"컴퓨터 :\", data[computer])\n",
    "            \n",
    "            count+=1\n",
    "\n",
    "        elif me == 3 and computer == 1:\n",
    "            print(\"유저 :\", data[me], \"컴퓨터 :\", data[computer])\n",
    "            \n",
    "            count1 += 1\n",
    "        elif me == 3 and computer == 3:\n",
    "            print(\"유저 :\", data[me], \"컴퓨터 :\", data[computer])\n",
    "            \n",
    "        elif me == 3 and computer == 2:\n",
    "            print(\"유저 :\", data[me], \"컴퓨터 :\", data[computer])\n",
    "            \n",
    "            count+=1\n",
    "    else:\n",
    "        print(\"1~3 만 입력\")\n",
    "        continue"
   ]
  },
  {
   "cell_type": "markdown",
   "metadata": {},
   "source": []
  },
  {
   "cell_type": "markdown",
   "metadata": {},
   "source": [
    "## 연습문제!! 개미수열"
   ]
  },
  {
   "cell_type": "code",
   "execution_count": null,
   "metadata": {},
   "outputs": [],
   "source": [
    "n = int(input(\"정수를 입력해주세요:\"))\n",
    "for i in range(1,n+1)"
   ]
  },
  {
   "cell_type": "code",
   "execution_count": null,
   "metadata": {},
   "outputs": [],
   "source": []
  },
  {
   "cell_type": "code",
   "execution_count": null,
   "metadata": {},
   "outputs": [],
   "source": []
  },
  {
   "cell_type": "code",
   "execution_count": 28,
   "metadata": {},
   "outputs": [
    {
     "name": "stdout",
     "output_type": "stream",
     "text": [
      "정수를 입력해주세요:7\n",
      "11\n",
      "12\n",
      "1121\n",
      "122111\n",
      "112213\n",
      "12221131\n",
      "12221131\n"
     ]
    }
   ],
   "source": [
    "result = \"1\"\n",
    "output = \"\"\n",
    "n = int(input(\"정수를 입력해주세요:\"))\n",
    "\n",
    "n -=1\n",
    "\n",
    "for i in range(n):\n",
    "    j = 0 \n",
    "    \n",
    "    while j < len(result):\n",
    "        now = result[j]\n",
    "        count = 1\n",
    "        while j+1 < len(result) and now == result[j+1]: \n",
    "            count += 1 \n",
    "            j += 1\n",
    "        output += now + str(count)\n",
    "        j += 1\n",
    "        \n",
    "    print (output)\n",
    "    \n",
    "    result = output\n",
    "    output = \"\"\n",
    "\n",
    "print(result)"
   ]
  },
  {
   "cell_type": "code",
   "execution_count": 32,
   "metadata": {},
   "outputs": [
    {
     "data": {
      "text/plain": [
       "[0]"
      ]
     },
     "execution_count": 32,
     "metadata": {},
     "output_type": "execute_result"
    }
   ],
   "source": [
    "list(range(len('1')))"
   ]
  },
  {
   "cell_type": "code",
   "execution_count": 34,
   "metadata": {},
   "outputs": [
    {
     "data": {
      "text/plain": [
       "[0]"
      ]
     },
     "execution_count": 34,
     "metadata": {},
     "output_type": "execute_result"
    }
   ],
   "source": [
    "list(range(len('3')))"
   ]
  },
  {
   "cell_type": "code",
   "execution_count": 35,
   "metadata": {},
   "outputs": [],
   "source": [
    "result ='1121'"
   ]
  },
  {
   "cell_type": "code",
   "execution_count": 36,
   "metadata": {},
   "outputs": [
    {
     "name": "stdout",
     "output_type": "stream",
     "text": [
      "1\n",
      "1\n",
      "2\n",
      "1\n"
     ]
    }
   ],
   "source": [
    "for word in result:\n",
    "    print(word)"
   ]
  },
  {
   "cell_type": "code",
   "execution_count": null,
   "metadata": {},
   "outputs": [],
   "source": []
  },
  {
   "cell_type": "code",
   "execution_count": 50,
   "metadata": {},
   "outputs": [],
   "source": [
    "def fibonacci(num):\n",
    "    answer = [0,1]  \n",
    " \n",
    "    for n in range(2,num+1):\n",
    "        answer.append(answer[n-1]+answer[n-2])\n",
    "\n",
    "    return answer[-1] \n"
   ]
  },
  {
   "cell_type": "code",
   "execution_count": 60,
   "metadata": {},
   "outputs": [
    {
     "name": "stdout",
     "output_type": "stream",
     "text": [
      "8\n"
     ]
    }
   ],
   "source": [
    "print(fibonacci(6))"
   ]
  },
  {
   "cell_type": "code",
   "execution_count": null,
   "metadata": {},
   "outputs": [],
   "source": []
  }
 ],
 "metadata": {
  "kernelspec": {
   "display_name": "Python 3",
   "language": "python",
   "name": "python3"
  }
 },
 "nbformat": 4,
 "nbformat_minor": 2
}
